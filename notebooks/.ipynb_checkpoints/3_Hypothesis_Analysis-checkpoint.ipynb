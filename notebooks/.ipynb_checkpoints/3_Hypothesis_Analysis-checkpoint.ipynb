{
 "cells": [
  {
   "cell_type": "markdown",
   "metadata": {},
   "source": [
    "# Hypothesis Analysis"
   ]
  },
  {
   "cell_type": "code",
   "execution_count": 1,
   "metadata": {},
   "outputs": [],
   "source": [
    "import pandas as pd\n",
    "import numpy as np"
   ]
  },
  {
   "cell_type": "markdown",
   "metadata": {},
   "source": [
    "## 1. Load Data"
   ]
  },
  {
   "cell_type": "code",
   "execution_count": 2,
   "metadata": {},
   "outputs": [],
   "source": [
    "# Load hurdat data formatted into dataframe\n",
    "hurricanes_df = pd.read_csv(\"../data/hurricanes_df_cleaned.csv\")"
   ]
  },
  {
   "cell_type": "markdown",
   "metadata": {},
   "source": [
    "## 2. Analysis of Hypothesis 1\n",
    "#### Storms are making more frequent landfalls due to increased strength and duration of systems.\n",
    "Analysis of:\n",
    "* Number of storms\n",
    "* Strong storms (hurricane status)\n",
    "* Number of landfalls\n",
    "* Average duration of storms"
   ]
  },
  {
   "cell_type": "code",
   "execution_count": 3,
   "metadata": {},
   "outputs": [],
   "source": [
    "# % of storms to make landfall for each 10 year period from 1917-2017\n",
    "periods = {0: {'name': '1918-1927',\n",
    "               'start': 1918,\n",
    "               'end': 1927},\n",
    "           1: {'name': '1928-1937',\n",
    "               'start': 1928,\n",
    "               'end': 1937},\n",
    "           2: {'name': '1938-1947',\n",
    "               'start': 1938,\n",
    "               'end': 1947},\n",
    "           3: {'name': '1948-1957',\n",
    "               'start': 1948,\n",
    "               'end': 1957},\n",
    "           4: {'name': '1958-1967',\n",
    "               'start': 1958,\n",
    "               'end': 1967},\n",
    "           5: {'name': '1968-1977',\n",
    "               'start': 1968,\n",
    "               'end': 1977},\n",
    "           6: {'name': '1978-1987',\n",
    "               'start': 1978,\n",
    "               'end': 1987},\n",
    "           7: {'name': '1988-1997',\n",
    "               'start': 1988,\n",
    "               'end': 1997},\n",
    "           8: {'name': '1998-2007',\n",
    "               'start': 1998,\n",
    "               'end': 2007},\n",
    "           9: {'name': '2008-2017',\n",
    "               'start': 2018,\n",
    "               'end': 2017}\n",
    "          }"
   ]
  },
  {
   "cell_type": "code",
   "execution_count": 4,
   "metadata": {},
   "outputs": [],
   "source": [
    "hurr_1900s = hurricanes_df[(hurricanes_df['year']>=1918) & (hurricanes_df['year']<=1927)]"
   ]
  },
  {
   "cell_type": "code",
   "execution_count": null,
   "metadata": {},
   "outputs": [],
   "source": []
  }
 ],
 "metadata": {
  "kernelspec": {
   "display_name": "Python 3",
   "language": "python",
   "name": "python3"
  },
  "language_info": {
   "codemirror_mode": {
    "name": "ipython",
    "version": 3
   },
   "file_extension": ".py",
   "mimetype": "text/x-python",
   "name": "python",
   "nbconvert_exporter": "python",
   "pygments_lexer": "ipython3",
   "version": "3.6.6"
  }
 },
 "nbformat": 4,
 "nbformat_minor": 2
}
