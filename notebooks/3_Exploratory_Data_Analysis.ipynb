{
 "cells": [
  {
   "cell_type": "markdown",
   "metadata": {},
   "source": [
    "# Exploratory Data Analysis of Atlantic Hurricanes 1850-2017\n",
    "\n",
    "### Background\n",
    "After cleaning and parsing the HURDAT dataset on Atlantic Ocean hurricanes, we will do some initial exploratiry data analysis to get a better feel for the data. The aim of this is to potentially uncover some interesting trends and features of the dataset through visualizations and analysis.\n",
    "\n",
    "### Contents\n",
    "1. Load Data\n",
    "2. Initial Exploration"
   ]
  },
  {
   "cell_type": "code",
   "execution_count": 1,
   "metadata": {},
   "outputs": [],
   "source": [
    "import numpy as np\n",
    "import pandas as pd\n",
    "import pickle\n",
    "import matplotlib.pyplot as plt\n",
    "import seaborn as sns"
   ]
  },
  {
   "cell_type": "markdown",
   "metadata": {},
   "source": [
    "## 1. Load Data"
   ]
  },
  {
   "cell_type": "code",
   "execution_count": 2,
   "metadata": {},
   "outputs": [],
   "source": [
    "with open('../data/hurricanes_cleaned.pkl', 'rb') as handle:\n",
    "    hurricanes = pickle.load(handle)"
   ]
  },
  {
   "cell_type": "markdown",
   "metadata": {},
   "source": [
    "## 2. Initial Exploration"
   ]
  },
  {
   "cell_type": "code",
   "execution_count": 3,
   "metadata": {},
   "outputs": [
    {
     "name": "stdout",
     "output_type": "stream",
     "text": [
      "There are data for 1848 storms in this dataset.\n"
     ]
    }
   ],
   "source": [
    "num_hurricanes = len(hurricanes)\n",
    "print(f'There are data for {num_hurricanes} storms in this dataset.')"
   ]
  },
  {
   "cell_type": "markdown",
   "metadata": {},
   "source": [
    "### A. Number of storms and hurricanes in each year"
   ]
  },
  {
   "cell_type": "code",
   "execution_count": 4,
   "metadata": {},
   "outputs": [],
   "source": [
    "import plotly.plotly as py\n",
    "import plotly.graph_objs as go\n",
    "from plotly.tools import FigureFactory as FF\n",
    "from plotly.tools import get_embed\n",
    "from plotly import offline"
   ]
  },
  {
   "cell_type": "code",
   "execution_count": 5,
   "metadata": {},
   "outputs": [],
   "source": [
    "a = range(1851, 2018)\n",
    "\n",
    "# Count number of storms\n",
    "storm_count_by_yr = dict((el,0) for el in a)\n",
    "for storm_id, storm_data in hurricanes.items():\n",
    "    year = storm_data['year']\n",
    "    storm_count_by_yr[year] += 1\n",
    "    \n",
    "# Count number of hurricanes\n",
    "hurricane_count_by_yr = dict((el,0) for el in a)\n",
    "for storm_id, storm_data in hurricanes.items():\n",
    "    if storm_data['is_hurricane']==True:\n",
    "        year = storm_data['year']\n",
    "        hurricane_count_by_yr[year] += 1"
   ]
  },
  {
   "cell_type": "code",
   "execution_count": 6,
   "metadata": {},
   "outputs": [
    {
     "data": {
      "text/html": [
       "<iframe id=\"igraph\" scrolling=\"no\" style=\"border:none;\" seamless=\"seamless\" src=\"https://plot.ly/~himi64/8.embed\" height=\"525px\" width=\"100%\"></iframe>"
      ],
      "text/plain": [
       "<chart_studio.tools.PlotlyDisplay object>"
      ]
     },
     "execution_count": 6,
     "metadata": {},
     "output_type": "execute_result"
    }
   ],
   "source": [
    "x = list(storm_count_by_yr.keys())\n",
    "y1 = list(storm_count_by_yr.values())\n",
    "y2 = list(hurricane_count_by_yr.values())\n",
    "\n",
    "trace1 = go.Scatter(\n",
    "    x = x,\n",
    "    y = y1,\n",
    "    mode = 'lines+markers',\n",
    "    name='Number of Tropical Storms'\n",
    ")\n",
    "\n",
    "trace2 = go.Scatter(\n",
    "    x = x,\n",
    "    y = y2,\n",
    "    mode = 'lines+markers',\n",
    "    name='Number of Hurricanes'\n",
    ")\n",
    "\n",
    "data = [trace1, trace2]\n",
    "\n",
    "layout = go.Layout(\n",
    "    title=go.layout.Title(\n",
    "        text='Number of Tropical Storms and Hurricanes by Year',\n",
    "        xref='paper',\n",
    "        x=0\n",
    "    ),\n",
    "    xaxis=go.layout.XAxis(\n",
    "        title=go.layout.xaxis.Title(\n",
    "            text='Year',\n",
    "            font=dict(\n",
    "                family='Courier New, monospace',\n",
    "                size=18,\n",
    "                color='#7f7f7f'\n",
    "            )\n",
    "        )\n",
    "    ),\n",
    "    yaxis=go.layout.YAxis(\n",
    "        title=go.layout.yaxis.Title(\n",
    "            text='Number of Storms',\n",
    "            font=dict(\n",
    "                family='Courier New, monospace',\n",
    "                size=18,\n",
    "                color='#7f7f7f'\n",
    "            )\n",
    "        )\n",
    "    )\n",
    ")\n",
    "\n",
    "fig1 = go.Figure(data=data, layout=layout)\n",
    "py.iplot(fig1, filename='storms-by-year')"
   ]
  },
  {
   "cell_type": "code",
   "execution_count": 7,
   "metadata": {},
   "outputs": [
    {
     "data": {
      "text/plain": [
       "'../../hm9464.github.io/plots/ts_and_hurricanes_by_year.html'"
      ]
     },
     "execution_count": 7,
     "metadata": {},
     "output_type": "execute_result"
    }
   ],
   "source": [
    "offline.plot(fig1, filename='../plots/ts_and_hurricanes_by_year.html')\n",
    "offline.plot(fig1, filename='../../hm9464.github.io/plots/ts_and_hurricanes_by_year.html')"
   ]
  },
  {
   "cell_type": "markdown",
   "metadata": {},
   "source": [
    "There seems to be a definite trend towards an increasing number of storms since 1851. Let's go deeper and look at the number of hurricanes in each year. A hurricane is a storm categorized as having wind speed > 74mph. \n",
    "\n",
    "What's interesting to note is that there are more years with > 10 hurricanes compared to in the past. In the period 1851-1990, there were 9 years where the number of hurricanes was 10 or greater. Since 1990, there have been 6 years with 10 or more hurricanes. "
   ]
  },
  {
   "cell_type": "markdown",
   "metadata": {},
   "source": [
    "### B. Storm Duration over time"
   ]
  },
  {
   "cell_type": "code",
   "execution_count": 8,
   "metadata": {},
   "outputs": [],
   "source": [
    "# Count number of storms\n",
    "storm_duration_by_yr = dict((el,[]) for el in a)\n",
    "for storm_id, storm_data in hurricanes.items():\n",
    "    year = storm_data['year']\n",
    "    duration = storm_data['duration']\n",
    "    storm_duration_by_yr[year].append(duration)"
   ]
  },
  {
   "cell_type": "code",
   "execution_count": 9,
   "metadata": {},
   "outputs": [],
   "source": [
    "avg_storm_duration_by_yr = dict((el,[]) for el in a)\n",
    "\n",
    "for year, amounts in storm_duration_by_yr.items():\n",
    "    day = np.mean(storm_duration_by_yr[year]).days\n",
    "    day_decimal = np.mean(storm_duration_by_yr[year]).seconds / 86400 # 1 day = 86400 seconds\n",
    "    avg_time = day + day_decimal\n",
    "    avg_storm_duration_by_yr[year] = avg_time"
   ]
  },
  {
   "cell_type": "code",
   "execution_count": 10,
   "metadata": {},
   "outputs": [
    {
     "data": {
      "text/html": [
       "<iframe id=\"igraph\" scrolling=\"no\" style=\"border:none;\" seamless=\"seamless\" src=\"https://plot.ly/~himi64/10.embed\" height=\"525px\" width=\"100%\"></iframe>"
      ],
      "text/plain": [
       "<chart_studio.tools.PlotlyDisplay object>"
      ]
     },
     "execution_count": 10,
     "metadata": {},
     "output_type": "execute_result"
    }
   ],
   "source": [
    "x = list(avg_storm_duration_by_yr.keys())\n",
    "y1 = list(avg_storm_duration_by_yr.values())\n",
    "\n",
    "trace1 = go.Scatter(\n",
    "    x = x,\n",
    "    y = y1,\n",
    "    mode = 'lines+markers',\n",
    "    name='Average Duration (Days)'\n",
    ")\n",
    "\n",
    "data = [trace1]\n",
    "\n",
    "layout = go.Layout(\n",
    "    title=go.layout.Title(\n",
    "        text='Average Duration of Tropical Storms by Year',\n",
    "        xref='paper',\n",
    "        x=0\n",
    "    ),\n",
    "    xaxis=go.layout.XAxis(\n",
    "        title=go.layout.xaxis.Title(\n",
    "            text='Year',\n",
    "            font=dict(\n",
    "                family='Courier New, monospace',\n",
    "                size=18,\n",
    "                color='#7f7f7f'\n",
    "            )\n",
    "        )\n",
    "    ),\n",
    "    yaxis=go.layout.YAxis(\n",
    "        title=go.layout.yaxis.Title(\n",
    "            text='Average Duration (Days)',\n",
    "            font=dict(\n",
    "                family='Courier New, monospace',\n",
    "                size=18,\n",
    "                color='#7f7f7f'\n",
    "            )\n",
    "        )\n",
    "    )\n",
    ")\n",
    "\n",
    "fig2 = go.Figure(data=data, layout=layout)\n",
    "py.iplot(fig2, filename='avg-duration-by-year')"
   ]
  },
  {
   "cell_type": "code",
   "execution_count": 11,
   "metadata": {},
   "outputs": [
    {
     "data": {
      "text/plain": [
       "'../../hm9464.github.io/plots/ts_avg_duration_by_year.html'"
      ]
     },
     "execution_count": 11,
     "metadata": {},
     "output_type": "execute_result"
    }
   ],
   "source": [
    "offline.plot(fig2, filename='../plots/ts_avg_duration_by_year.html')\n",
    "offline.plot(fig2, filename='../../hm9464.github.io/plots/ts_avg_duration_by_year.html')"
   ]
  },
  {
   "cell_type": "markdown",
   "metadata": {},
   "source": [
    "### C. Number of Landfalls over time"
   ]
  },
  {
   "cell_type": "code",
   "execution_count": 12,
   "metadata": {},
   "outputs": [],
   "source": [
    "# Count number of landfalls\n",
    "landfall_count_by_yr = dict((el,0) for el in a)\n",
    "for storm_id, storm_data in hurricanes.items():\n",
    "    if storm_data['landfall']==True:\n",
    "        year = storm_data['year']\n",
    "        landfall_count_by_yr[year] += 1"
   ]
  },
  {
   "cell_type": "code",
   "execution_count": 13,
   "metadata": {},
   "outputs": [
    {
     "data": {
      "text/html": [
       "<iframe id=\"igraph\" scrolling=\"no\" style=\"border:none;\" seamless=\"seamless\" src=\"https://plot.ly/~himi64/10.embed\" height=\"525px\" width=\"100%\"></iframe>"
      ],
      "text/plain": [
       "<chart_studio.tools.PlotlyDisplay object>"
      ]
     },
     "execution_count": 13,
     "metadata": {},
     "output_type": "execute_result"
    }
   ],
   "source": [
    "x = list(landfall_count_by_yr.keys())\n",
    "y1 = list(landfall_count_by_yr.values())\n",
    "\n",
    "trace1 = go.Scatter(\n",
    "    x = x,\n",
    "    y = y1,\n",
    "    mode = 'lines+markers',\n",
    "    name='Number of Landfalls'\n",
    ")\n",
    "\n",
    "data = [trace1]\n",
    "\n",
    "layout = go.Layout(\n",
    "    title=go.layout.Title(\n",
    "        text='Number of Tropical Storms and Hurricanes Making Landfall by Year',\n",
    "        xref='paper',\n",
    "        x=0\n",
    "    ),\n",
    "    xaxis=go.layout.XAxis(\n",
    "        title=go.layout.xaxis.Title(\n",
    "            text='Year',\n",
    "            font=dict(\n",
    "                family='Courier New, monospace',\n",
    "                size=18,\n",
    "                color='#7f7f7f'\n",
    "            )\n",
    "        )\n",
    "    ),\n",
    "    yaxis=go.layout.YAxis(\n",
    "        title=go.layout.yaxis.Title(\n",
    "            text='Number of Landfalls',\n",
    "            font=dict(\n",
    "                family='Courier New, monospace',\n",
    "                size=18,\n",
    "                color='#7f7f7f'\n",
    "            )\n",
    "        )\n",
    "    )\n",
    ")\n",
    "\n",
    "fig3 = go.Figure(data=data, layout=layout)\n",
    "py.iplot(fig3, filename='avg-duration-by-year')"
   ]
  },
  {
   "cell_type": "code",
   "execution_count": 14,
   "metadata": {},
   "outputs": [
    {
     "data": {
      "text/plain": [
       "'../../hm9464.github.io/plots/ts_landfalls_by_year.html'"
      ]
     },
     "execution_count": 14,
     "metadata": {},
     "output_type": "execute_result"
    }
   ],
   "source": [
    "offline.plot(fig3, filename='../plots/ts_landfalls_by_year.html')\n",
    "offline.plot(fig3, filename='../../hm9464.github.io/plots/ts_landfalls_by_year.html')"
   ]
  }
 ],
 "metadata": {
  "kernelspec": {
   "display_name": "Python 3",
   "language": "python",
   "name": "python3"
  },
  "language_info": {
   "codemirror_mode": {
    "name": "ipython",
    "version": 3
   },
   "file_extension": ".py",
   "mimetype": "text/x-python",
   "name": "python",
   "nbconvert_exporter": "python",
   "pygments_lexer": "ipython3",
   "version": "3.6.6"
  }
 },
 "nbformat": 4,
 "nbformat_minor": 2
}
